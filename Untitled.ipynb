{
 "cells": [
  {
   "cell_type": "code",
   "execution_count": 241,
   "id": "e4ec0965",
   "metadata": {},
   "outputs": [],
   "source": [
    "import pandas as pd\n",
    "\n",
    "path = \"附件1.xlsx\"\n",
    "\n",
    "data = pd.read_excel(path)"
   ]
  },
  {
   "cell_type": "code",
   "execution_count": 242,
   "outputs": [],
   "source": [
    "data = data.groupby(\"城市\")"
   ],
   "metadata": {
    "collapsed": false,
    "pycharm": {
     "name": "#%%\n"
    }
   }
  },
  {
   "cell_type": "code",
   "execution_count": 243,
   "outputs": [],
   "source": [
    "def leijia(x):\n",
    "    x[\"累计确诊\"] = x['新增确诊'].cumsum()\n",
    "    x[\"累计治愈\"] = x['新增治愈'].cumsum()\n",
    "    x[\"累计死亡\"] = x['新增死亡'].cumsum()\n",
    "    return x\n",
    "    pass\n",
    "\n",
    "\n",
    "data = data.apply(leijia)\n"
   ],
   "metadata": {
    "collapsed": false,
    "pycharm": {
     "name": "#%%\n"
    }
   }
  },
  {
   "cell_type": "code",
   "execution_count": 244,
   "id": "2db04c41",
   "metadata": {},
   "outputs": [
    {
     "data": {
      "text/plain": "              日期       城市  新增确诊  新增治愈  新增死亡  累计确诊  累计治愈  累计死亡\n0     2020-01-10       武汉    41     2     1    41     2     1\n1     2020-01-11       武汉     0     4     0    41     6     1\n2     2020-01-12       武汉     0     1     0    41     7     1\n3     2020-01-15       武汉     0     5     1    41    12     2\n4     2020-01-16       武汉     4     3     0    45    15     2\n...          ...      ...   ...   ...   ...   ...   ...   ...\n10240 2020-06-30       保定     0     2     0    48    48     0\n10241 2020-06-30      大兴区     3     0     0   104     2     0\n10242 2020-06-30  辽宁-境外输入     0     1     0    24    22     0\n10243 2020-06-30  陕西-境外输入     0     1     0    75    67     0\n10244 2020-06-30  四川-境外输入     0     2     0    54    43     0\n\n[10245 rows x 8 columns]",
      "text/html": "<div>\n<style scoped>\n    .dataframe tbody tr th:only-of-type {\n        vertical-align: middle;\n    }\n\n    .dataframe tbody tr th {\n        vertical-align: top;\n    }\n\n    .dataframe thead th {\n        text-align: right;\n    }\n</style>\n<table border=\"1\" class=\"dataframe\">\n  <thead>\n    <tr style=\"text-align: right;\">\n      <th></th>\n      <th>日期</th>\n      <th>城市</th>\n      <th>新增确诊</th>\n      <th>新增治愈</th>\n      <th>新增死亡</th>\n      <th>累计确诊</th>\n      <th>累计治愈</th>\n      <th>累计死亡</th>\n    </tr>\n  </thead>\n  <tbody>\n    <tr>\n      <th>0</th>\n      <td>2020-01-10</td>\n      <td>武汉</td>\n      <td>41</td>\n      <td>2</td>\n      <td>1</td>\n      <td>41</td>\n      <td>2</td>\n      <td>1</td>\n    </tr>\n    <tr>\n      <th>1</th>\n      <td>2020-01-11</td>\n      <td>武汉</td>\n      <td>0</td>\n      <td>4</td>\n      <td>0</td>\n      <td>41</td>\n      <td>6</td>\n      <td>1</td>\n    </tr>\n    <tr>\n      <th>2</th>\n      <td>2020-01-12</td>\n      <td>武汉</td>\n      <td>0</td>\n      <td>1</td>\n      <td>0</td>\n      <td>41</td>\n      <td>7</td>\n      <td>1</td>\n    </tr>\n    <tr>\n      <th>3</th>\n      <td>2020-01-15</td>\n      <td>武汉</td>\n      <td>0</td>\n      <td>5</td>\n      <td>1</td>\n      <td>41</td>\n      <td>12</td>\n      <td>2</td>\n    </tr>\n    <tr>\n      <th>4</th>\n      <td>2020-01-16</td>\n      <td>武汉</td>\n      <td>4</td>\n      <td>3</td>\n      <td>0</td>\n      <td>45</td>\n      <td>15</td>\n      <td>2</td>\n    </tr>\n    <tr>\n      <th>...</th>\n      <td>...</td>\n      <td>...</td>\n      <td>...</td>\n      <td>...</td>\n      <td>...</td>\n      <td>...</td>\n      <td>...</td>\n      <td>...</td>\n    </tr>\n    <tr>\n      <th>10240</th>\n      <td>2020-06-30</td>\n      <td>保定</td>\n      <td>0</td>\n      <td>2</td>\n      <td>0</td>\n      <td>48</td>\n      <td>48</td>\n      <td>0</td>\n    </tr>\n    <tr>\n      <th>10241</th>\n      <td>2020-06-30</td>\n      <td>大兴区</td>\n      <td>3</td>\n      <td>0</td>\n      <td>0</td>\n      <td>104</td>\n      <td>2</td>\n      <td>0</td>\n    </tr>\n    <tr>\n      <th>10242</th>\n      <td>2020-06-30</td>\n      <td>辽宁-境外输入</td>\n      <td>0</td>\n      <td>1</td>\n      <td>0</td>\n      <td>24</td>\n      <td>22</td>\n      <td>0</td>\n    </tr>\n    <tr>\n      <th>10243</th>\n      <td>2020-06-30</td>\n      <td>陕西-境外输入</td>\n      <td>0</td>\n      <td>1</td>\n      <td>0</td>\n      <td>75</td>\n      <td>67</td>\n      <td>0</td>\n    </tr>\n    <tr>\n      <th>10244</th>\n      <td>2020-06-30</td>\n      <td>四川-境外输入</td>\n      <td>0</td>\n      <td>2</td>\n      <td>0</td>\n      <td>54</td>\n      <td>43</td>\n      <td>0</td>\n    </tr>\n  </tbody>\n</table>\n<p>10245 rows × 8 columns</p>\n</div>"
     },
     "execution_count": 244,
     "metadata": {},
     "output_type": "execute_result"
    }
   ],
   "source": [
    "data"
   ]
  },
  {
   "cell_type": "code",
   "execution_count": 245,
   "id": "4cfdc9b2",
   "metadata": {
    "pycharm": {
     "name": "#%%\n"
    }
   },
   "outputs": [],
   "source": [
    "data.to_csv(\"result/1_1.csv\")"
   ]
  },
  {
   "cell_type": "code",
   "execution_count": 246,
   "outputs": [],
   "source": [
    "data = data.groupby(\"城市\")\n",
    "data_wuhan = data.get_group(\"武汉\")\n",
    "data_shenzhen = data.get_group(\"深圳\")\n",
    "data_baoding = data.get_group(\"保定\")"
   ],
   "metadata": {
    "collapsed": false,
    "pycharm": {
     "name": "#%%\n"
    }
   }
  },
  {
   "cell_type": "code",
   "execution_count": 247,
   "outputs": [
    {
     "data": {
      "text/plain": "              日期  城市  新增确诊  新增治愈  新增死亡   累计确诊   累计治愈  累计死亡\n0     2020-01-10  武汉    41     2     1     41      2     1\n1     2020-01-11  武汉     0     4     0     41      6     1\n2     2020-01-12  武汉     0     1     0     41      7     1\n3     2020-01-15  武汉     0     5     1     41     12     2\n4     2020-01-16  武汉     4     3     0     45     15     2\n...          ...  ..   ...   ...   ...    ...    ...   ...\n9957  2020-05-24  武汉     0     1     0  50340  46465  3869\n9967  2020-05-26  武汉     0     1     0  50340  46466  3869\n9984  2020-05-29  武汉     0     1     0  50340  46467  3869\n9995  2020-05-31  武汉     0     1     0  50340  46468  3869\n10021 2020-06-04  武汉     0     3     0  50340  46471  3869\n\n[114 rows x 8 columns]",
      "text/html": "<div>\n<style scoped>\n    .dataframe tbody tr th:only-of-type {\n        vertical-align: middle;\n    }\n\n    .dataframe tbody tr th {\n        vertical-align: top;\n    }\n\n    .dataframe thead th {\n        text-align: right;\n    }\n</style>\n<table border=\"1\" class=\"dataframe\">\n  <thead>\n    <tr style=\"text-align: right;\">\n      <th></th>\n      <th>日期</th>\n      <th>城市</th>\n      <th>新增确诊</th>\n      <th>新增治愈</th>\n      <th>新增死亡</th>\n      <th>累计确诊</th>\n      <th>累计治愈</th>\n      <th>累计死亡</th>\n    </tr>\n  </thead>\n  <tbody>\n    <tr>\n      <th>0</th>\n      <td>2020-01-10</td>\n      <td>武汉</td>\n      <td>41</td>\n      <td>2</td>\n      <td>1</td>\n      <td>41</td>\n      <td>2</td>\n      <td>1</td>\n    </tr>\n    <tr>\n      <th>1</th>\n      <td>2020-01-11</td>\n      <td>武汉</td>\n      <td>0</td>\n      <td>4</td>\n      <td>0</td>\n      <td>41</td>\n      <td>6</td>\n      <td>1</td>\n    </tr>\n    <tr>\n      <th>2</th>\n      <td>2020-01-12</td>\n      <td>武汉</td>\n      <td>0</td>\n      <td>1</td>\n      <td>0</td>\n      <td>41</td>\n      <td>7</td>\n      <td>1</td>\n    </tr>\n    <tr>\n      <th>3</th>\n      <td>2020-01-15</td>\n      <td>武汉</td>\n      <td>0</td>\n      <td>5</td>\n      <td>1</td>\n      <td>41</td>\n      <td>12</td>\n      <td>2</td>\n    </tr>\n    <tr>\n      <th>4</th>\n      <td>2020-01-16</td>\n      <td>武汉</td>\n      <td>4</td>\n      <td>3</td>\n      <td>0</td>\n      <td>45</td>\n      <td>15</td>\n      <td>2</td>\n    </tr>\n    <tr>\n      <th>...</th>\n      <td>...</td>\n      <td>...</td>\n      <td>...</td>\n      <td>...</td>\n      <td>...</td>\n      <td>...</td>\n      <td>...</td>\n      <td>...</td>\n    </tr>\n    <tr>\n      <th>9957</th>\n      <td>2020-05-24</td>\n      <td>武汉</td>\n      <td>0</td>\n      <td>1</td>\n      <td>0</td>\n      <td>50340</td>\n      <td>46465</td>\n      <td>3869</td>\n    </tr>\n    <tr>\n      <th>9967</th>\n      <td>2020-05-26</td>\n      <td>武汉</td>\n      <td>0</td>\n      <td>1</td>\n      <td>0</td>\n      <td>50340</td>\n      <td>46466</td>\n      <td>3869</td>\n    </tr>\n    <tr>\n      <th>9984</th>\n      <td>2020-05-29</td>\n      <td>武汉</td>\n      <td>0</td>\n      <td>1</td>\n      <td>0</td>\n      <td>50340</td>\n      <td>46467</td>\n      <td>3869</td>\n    </tr>\n    <tr>\n      <th>9995</th>\n      <td>2020-05-31</td>\n      <td>武汉</td>\n      <td>0</td>\n      <td>1</td>\n      <td>0</td>\n      <td>50340</td>\n      <td>46468</td>\n      <td>3869</td>\n    </tr>\n    <tr>\n      <th>10021</th>\n      <td>2020-06-04</td>\n      <td>武汉</td>\n      <td>0</td>\n      <td>3</td>\n      <td>0</td>\n      <td>50340</td>\n      <td>46471</td>\n      <td>3869</td>\n    </tr>\n  </tbody>\n</table>\n<p>114 rows × 8 columns</p>\n</div>"
     },
     "execution_count": 247,
     "metadata": {},
     "output_type": "execute_result"
    }
   ],
   "source": [
    "# def find_date(x):\n",
    "#     temp=pd.DataFrame()\n",
    "#     temp=x[x[\"日期\"]==\"2020-01-25\"]\n",
    "#     return temp\n",
    "#     pass\n",
    "data_wuhan=pd.DataFrame(data_wuhan)\n",
    "data_wuhan\n",
    "# data_wuhan.loc(data_wuhan[\"城市\"].str.contains(\"武汉\"))\n"
   ],
   "metadata": {
    "collapsed": false,
    "pycharm": {
     "name": "#%%\n"
    }
   }
  },
  {
   "cell_type": "code",
   "execution_count": 248,
   "outputs": [
    {
     "ename": "ValueError",
     "evalue": "The truth value of a Series is ambiguous. Use a.empty, a.bool(), a.item(), a.any() or a.all().",
     "output_type": "error",
     "traceback": [
      "\u001B[1;31m---------------------------------------------------------------------------\u001B[0m",
      "\u001B[1;31mValueError\u001B[0m                                Traceback (most recent call last)",
      "\u001B[1;32m~\\AppData\\Local\\Temp/ipykernel_13692/3901750244.py\u001B[0m in \u001B[0;36m<module>\u001B[1;34m\u001B[0m\n\u001B[1;32m----> 1\u001B[1;33m \u001B[0mdata_wuhan\u001B[0m\u001B[1;33m=\u001B[0m\u001B[0mdata_wuhan\u001B[0m\u001B[1;33m[\u001B[0m\u001B[1;33m(\u001B[0m\u001B[0mdata_wuhan\u001B[0m\u001B[1;33m[\u001B[0m\u001B[1;34m\"日期\"\u001B[0m\u001B[1;33m]\u001B[0m\u001B[1;33m.\u001B[0m\u001B[0mdt\u001B[0m\u001B[1;33m.\u001B[0m\u001B[0mday\u001B[0m\u001B[1;33m==\u001B[0m\u001B[1;36m10\u001B[0m\u001B[1;33m)\u001B[0m \u001B[1;32mor\u001B[0m \u001B[1;33m(\u001B[0m\u001B[0mdata_wuhan\u001B[0m\u001B[1;33m[\u001B[0m\u001B[1;34m\"日期\"\u001B[0m\u001B[1;33m]\u001B[0m\u001B[1;33m.\u001B[0m\u001B[0mdt\u001B[0m\u001B[1;33m.\u001B[0m\u001B[0mday\u001B[0m\u001B[1;33m==\u001B[0m\u001B[1;36m15\u001B[0m\u001B[1;33m)\u001B[0m\u001B[1;33m]\u001B[0m\u001B[1;33m\u001B[0m\u001B[1;33m\u001B[0m\u001B[0m\n\u001B[0m\u001B[0;32m      2\u001B[0m \u001B[0mdata_wuhan\u001B[0m\u001B[1;33m\u001B[0m\u001B[1;33m\u001B[0m\u001B[0m\n",
      "\u001B[1;32mD:\\Python\\Python39\\lib\\site-packages\\pandas\\core\\generic.py\u001B[0m in \u001B[0;36m__nonzero__\u001B[1;34m(self)\u001B[0m\n\u001B[0;32m   1532\u001B[0m     \u001B[1;33m@\u001B[0m\u001B[0mfinal\u001B[0m\u001B[1;33m\u001B[0m\u001B[1;33m\u001B[0m\u001B[0m\n\u001B[0;32m   1533\u001B[0m     \u001B[1;32mdef\u001B[0m \u001B[0m__nonzero__\u001B[0m\u001B[1;33m(\u001B[0m\u001B[0mself\u001B[0m\u001B[1;33m)\u001B[0m\u001B[1;33m:\u001B[0m\u001B[1;33m\u001B[0m\u001B[1;33m\u001B[0m\u001B[0m\n\u001B[1;32m-> 1534\u001B[1;33m         raise ValueError(\n\u001B[0m\u001B[0;32m   1535\u001B[0m             \u001B[1;34mf\"The truth value of a {type(self).__name__} is ambiguous. \"\u001B[0m\u001B[1;33m\u001B[0m\u001B[1;33m\u001B[0m\u001B[0m\n\u001B[0;32m   1536\u001B[0m             \u001B[1;34m\"Use a.empty, a.bool(), a.item(), a.any() or a.all().\"\u001B[0m\u001B[1;33m\u001B[0m\u001B[1;33m\u001B[0m\u001B[0m\n",
      "\u001B[1;31mValueError\u001B[0m: The truth value of a Series is ambiguous. Use a.empty, a.bool(), a.item(), a.any() or a.all()."
     ]
    }
   ],
   "source": [
    "data_wuhan=data_wuhan[(data_wuhan[\"日期\"].dt.day==10) or (data_wuhan[\"日期\"].dt.day==15)]\n",
    "data_wuhan"
   ],
   "metadata": {
    "collapsed": false,
    "pycharm": {
     "name": "#%%\n"
    }
   }
  }
 ],
 "metadata": {
  "kernelspec": {
   "display_name": "Python 3 (ipykernel)",
   "language": "python",
   "name": "python3"
  },
  "language_info": {
   "codemirror_mode": {
    "name": "ipython",
    "version": 3
   },
   "file_extension": ".py",
   "mimetype": "text/x-python",
   "name": "python",
   "nbconvert_exporter": "python",
   "pygments_lexer": "ipython3",
   "version": "3.9.2"
  }
 },
 "nbformat": 4,
 "nbformat_minor": 5
}