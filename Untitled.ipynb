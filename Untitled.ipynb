{
 "cells": [
  {
   "cell_type": "code",
   "execution_count": 44,
   "id": "e4ec0965",
   "metadata": {
    "pycharm": {
     "name": "#%%\n"
    }
   },
   "outputs": [],
   "source": [
    "import pandas as pd\n",
    "\n",
    "\n",
    "def leijia(x):\n",
    "    x[\"累计确诊\"] = x['新增确诊'].cumsum()\n",
    "    x[\"累计治愈\"] = x['新增治愈'].cumsum()\n",
    "    x[\"累计死亡\"] = x['新增死亡'].cumsum()\n",
    "    return x\n",
    "    pass\n",
    "\n",
    "\n",
    "path = \"附件1.xlsx\"\n",
    "\n",
    "data = pd.read_excel(path)\n",
    "data = data.groupby(\"城市\")\n",
    "data = data.apply(leijia)\n",
    "data.to_csv(\"result/task1_1.csv\", index=False)\n",
    "data = data.groupby(\"城市\")\n",
    "data_wuhan = data.get_group(\"武汉\")\n",
    "data_shenzhen = data.get_group(\"深圳\")\n",
    "data_baoding = data.get_group(\"保定\")\n",
    "data_wuhan = pd.DataFrame(data_wuhan)\n",
    "data_shenzhen = pd.DataFrame(data_shenzhen)\n",
    "data_baoding = pd.DataFrame(data_baoding)\n",
    "data_wuhan_result = data_wuhan[(data_wuhan[\"日期\"].dt.day == 10)].append(data_wuhan[(data_wuhan[\"日期\"].dt.day == 25)])\n",
    "data_shenzhen_result = data_shenzhen[(data_shenzhen[\"日期\"].dt.day == 10)].append(\n",
    "    data_shenzhen[(data_shenzhen[\"日期\"].dt.day == 25)])\n",
    "data_baoding_result = data_baoding[(data_baoding[\"日期\"].dt.day == 10)].append(\n",
    "    data_baoding[(data_baoding[\"日期\"].dt.day == 25)])\n",
    "task_1_1 = data_wuhan_result.append(data_shenzhen_result)\n",
    "task_1_1 = task_1_1.append(data_baoding_result)\n",
    "task_1_1.to_csv(\"temp/task1.csv\", encoding=\"utf_8_sig\")\n",
    "\n"
   ]
  },
  {
   "cell_type": "code",
   "execution_count": 46,
   "outputs": [
    {
     "name": "stdout",
     "output_type": "stream",
     "text": [
      "<class 'pandas.core.frame.DataFrame'>\n",
      "RangeIndex: 10245 entries, 0 to 10244\n",
      "Data columns (total 8 columns):\n",
      " #   Column  Non-Null Count  Dtype \n",
      "---  ------  --------------  ----- \n",
      " 0   日期      10245 non-null  object\n",
      " 1   城市      10245 non-null  object\n",
      " 2   新增确诊    10245 non-null  int64 \n",
      " 3   新增治愈    10245 non-null  int64 \n",
      " 4   新增死亡    10245 non-null  int64 \n",
      " 5   累计确诊    10245 non-null  int64 \n",
      " 6   累计治愈    10245 non-null  int64 \n",
      " 7   累计死亡    10245 non-null  int64 \n",
      "dtypes: int64(6), object(2)\n",
      "memory usage: 640.4+ KB\n"
     ]
    },
    {
     "data": {
      "text/plain": "               日期       城市  新增确诊  新增治愈  新增死亡  累计确诊  累计治愈  累计死亡\n0      2020-01-10       武汉    41     2     1    41     2     1\n1      2020-01-11       武汉     0     4     0    41     6     1\n2      2020-01-12       武汉     0     1     0    41     7     1\n3      2020-01-15       武汉     0     5     1    41    12     2\n4      2020-01-16       武汉     4     3     0    45    15     2\n...           ...      ...   ...   ...   ...   ...   ...   ...\n10240  2020-06-30       保定     0     2     0    48    48     0\n10241  2020-06-30      大兴区     3     0     0   104     2     0\n10242  2020-06-30  辽宁-境外输入     0     1     0    24    22     0\n10243  2020-06-30  陕西-境外输入     0     1     0    75    67     0\n10244  2020-06-30  四川-境外输入     0     2     0    54    43     0\n\n[10245 rows x 8 columns]",
      "text/html": "<div>\n<style scoped>\n    .dataframe tbody tr th:only-of-type {\n        vertical-align: middle;\n    }\n\n    .dataframe tbody tr th {\n        vertical-align: top;\n    }\n\n    .dataframe thead th {\n        text-align: right;\n    }\n</style>\n<table border=\"1\" class=\"dataframe\">\n  <thead>\n    <tr style=\"text-align: right;\">\n      <th></th>\n      <th>日期</th>\n      <th>城市</th>\n      <th>新增确诊</th>\n      <th>新增治愈</th>\n      <th>新增死亡</th>\n      <th>累计确诊</th>\n      <th>累计治愈</th>\n      <th>累计死亡</th>\n    </tr>\n  </thead>\n  <tbody>\n    <tr>\n      <th>0</th>\n      <td>2020-01-10</td>\n      <td>武汉</td>\n      <td>41</td>\n      <td>2</td>\n      <td>1</td>\n      <td>41</td>\n      <td>2</td>\n      <td>1</td>\n    </tr>\n    <tr>\n      <th>1</th>\n      <td>2020-01-11</td>\n      <td>武汉</td>\n      <td>0</td>\n      <td>4</td>\n      <td>0</td>\n      <td>41</td>\n      <td>6</td>\n      <td>1</td>\n    </tr>\n    <tr>\n      <th>2</th>\n      <td>2020-01-12</td>\n      <td>武汉</td>\n      <td>0</td>\n      <td>1</td>\n      <td>0</td>\n      <td>41</td>\n      <td>7</td>\n      <td>1</td>\n    </tr>\n    <tr>\n      <th>3</th>\n      <td>2020-01-15</td>\n      <td>武汉</td>\n      <td>0</td>\n      <td>5</td>\n      <td>1</td>\n      <td>41</td>\n      <td>12</td>\n      <td>2</td>\n    </tr>\n    <tr>\n      <th>4</th>\n      <td>2020-01-16</td>\n      <td>武汉</td>\n      <td>4</td>\n      <td>3</td>\n      <td>0</td>\n      <td>45</td>\n      <td>15</td>\n      <td>2</td>\n    </tr>\n    <tr>\n      <th>...</th>\n      <td>...</td>\n      <td>...</td>\n      <td>...</td>\n      <td>...</td>\n      <td>...</td>\n      <td>...</td>\n      <td>...</td>\n      <td>...</td>\n    </tr>\n    <tr>\n      <th>10240</th>\n      <td>2020-06-30</td>\n      <td>保定</td>\n      <td>0</td>\n      <td>2</td>\n      <td>0</td>\n      <td>48</td>\n      <td>48</td>\n      <td>0</td>\n    </tr>\n    <tr>\n      <th>10241</th>\n      <td>2020-06-30</td>\n      <td>大兴区</td>\n      <td>3</td>\n      <td>0</td>\n      <td>0</td>\n      <td>104</td>\n      <td>2</td>\n      <td>0</td>\n    </tr>\n    <tr>\n      <th>10242</th>\n      <td>2020-06-30</td>\n      <td>辽宁-境外输入</td>\n      <td>0</td>\n      <td>1</td>\n      <td>0</td>\n      <td>24</td>\n      <td>22</td>\n      <td>0</td>\n    </tr>\n    <tr>\n      <th>10243</th>\n      <td>2020-06-30</td>\n      <td>陕西-境外输入</td>\n      <td>0</td>\n      <td>1</td>\n      <td>0</td>\n      <td>75</td>\n      <td>67</td>\n      <td>0</td>\n    </tr>\n    <tr>\n      <th>10244</th>\n      <td>2020-06-30</td>\n      <td>四川-境外输入</td>\n      <td>0</td>\n      <td>2</td>\n      <td>0</td>\n      <td>54</td>\n      <td>43</td>\n      <td>0</td>\n    </tr>\n  </tbody>\n</table>\n<p>10245 rows × 8 columns</p>\n</div>"
     },
     "execution_count": 46,
     "metadata": {},
     "output_type": "execute_result"
    }
   ],
   "source": [
    "data = pd.read_csv(\"result/task1_1.csv\")\n",
    "data.info()\n",
    "shengfen = pd.read_excel(\"附件1.xlsx\", sheet_name=\"城市省份对照表\")\n",
    "result = pd.DataFrame(columns=['日期', '省份', '新增确诊'])\n",
    "# '新增治愈', '新增死亡', '累计确诊', '累计治愈', '累计死亡']\n",
    "data\n"
   ],
   "metadata": {
    "collapsed": false,
    "pycharm": {
     "name": "#%%\n"
    }
   }
  }
 ],
 "metadata": {
  "kernelspec": {
   "display_name": "Python 3 (ipykernel)",
   "language": "python",
   "name": "python3"
  },
  "language_info": {
   "codemirror_mode": {
    "name": "ipython",
    "version": 3
   },
   "file_extension": ".py",
   "mimetype": "text/x-python",
   "name": "python",
   "nbconvert_exporter": "python",
   "pygments_lexer": "ipython3",
   "version": "3.9.2"
  }
 },
 "nbformat": 4,
 "nbformat_minor": 5
}